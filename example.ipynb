{
 "cells": [
  {
   "cell_type": "markdown",
   "metadata": {},
   "source": [
    "# Embeddings"
   ]
  },
  {
   "cell_type": "code",
   "execution_count": null,
   "metadata": {},
   "outputs": [],
   "source": [
    "from embeddings import Embeddings\n",
    "\n",
    "e = Embeddings()\n",
    "\n",
    "# We train with reference.json which only contains 3 functions for testing purposes\n",
    "e.train()\n",
    "\n",
    "# After the first training, we can save the model and load it instead of training again\n",
    "# e.save()\n",
    "# e.load()\n",
    "\n",
    "# The retriever returns relevant documents for the query\n",
    "e.get_retriever().get_relevant_documents(query=\"Cryptocurrency?\")"
   ]
  },
  {
   "cell_type": "markdown",
   "metadata": {},
   "source": [
    "# Bot"
   ]
  },
  {
   "cell_type": "code",
   "execution_count": null,
   "metadata": {},
   "outputs": [],
   "source": [
    "from bot import Bot\n",
    "\n",
    "b = Bot.create()\n",
    "answer = b.ask(\"How to get income statement for MSFT from 2021 until 2022?\")\n",
    "answer"
   ]
  }
 ],
 "metadata": {
  "kernelspec": {
   "display_name": "xl_ai",
   "language": "python",
   "name": "python3"
  },
  "language_info": {
   "codemirror_mode": {
    "name": "ipython",
    "version": 3
   },
   "file_extension": ".py",
   "mimetype": "text/x-python",
   "name": "python",
   "nbconvert_exporter": "python",
   "pygments_lexer": "ipython3",
   "version": "3.11.5"
  }
 },
 "nbformat": 4,
 "nbformat_minor": 2
}
